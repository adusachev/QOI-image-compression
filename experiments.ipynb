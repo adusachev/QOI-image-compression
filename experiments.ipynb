{
 "cells": [
  {
   "cell_type": "code",
   "execution_count": 1,
   "metadata": {},
   "outputs": [],
   "source": [
    "import numpy as np\n",
    "import matplotlib.pyplot as plt\n",
    "%matplotlib inline\n",
    "from tqdm.notebook import tqdm\n",
    "import cv2 as cv\n",
    "import seaborn as sns\n",
    "import io\n",
    "import os"
   ]
  },
  {
   "cell_type": "markdown",
   "metadata": {},
   "source": [
    "## Read image"
   ]
  },
  {
   "cell_type": "code",
   "execution_count": 2,
   "metadata": {},
   "outputs": [
    {
     "data": {
      "image/png": "[encoded data removed]",
      "text/plain": [
       "<Figure size 640x480 with 1 Axes>"
      ]
     },
     "metadata": {},
     "output_type": "display_data"
    }
   ],
   "source": [
    "img = cv.imread('./png_images/28_pixels.png')\n",
    "img = cv.cvtColor(img, cv.COLOR_BGR2RGB)  # BGR -> RGB\n",
    "\n",
    "plt.imshow(img)\n",
    "None"
   ]
  },
  {
   "cell_type": "code",
   "execution_count": 3,
   "metadata": {},
   "outputs": [
    {
     "data": {
      "text/plain": [
       "(4, 7, 3)"
      ]
     },
     "execution_count": 3,
     "metadata": {},
     "output_type": "execute_result"
    }
   ],
   "source": [
    "height, width = img.shape[0], img.shape[1]\n",
    "img.shape"
   ]
  },
  {
   "cell_type": "code",
   "execution_count": 4,
   "metadata": {},
   "outputs": [
    {
     "data": {
      "text/plain": [
       "array([[  0, 127, 136, 136, 136, 255, 255],\n",
       "       [237, 237, 237, 237, 237, 255, 255],\n",
       "       [163,   0,   0,   0,   0,   0,   0],\n",
       "       [  0,   0,   0,   0,   0,   0,   0]], dtype=uint8)"
      ]
     },
     "execution_count": 4,
     "metadata": {},
     "output_type": "execute_result"
    }
   ],
   "source": [
    "R = img[:, :, 0]\n",
    "R"
   ]
  },
  {
   "cell_type": "code",
   "execution_count": 5,
   "metadata": {},
   "outputs": [
    {
     "data": {
      "text/plain": [
       "array([[  0, 127,   0,   0,   0, 255, 255],\n",
       "       [ 28,  28,  28,  28,  28, 242, 242],\n",
       "       [ 73,   0,   0,   0,   0,   0,   0],\n",
       "       [  0,   0,   0,   0,   0,   0,   0]], dtype=uint8)"
      ]
     },
     "execution_count": 5,
     "metadata": {},
     "output_type": "execute_result"
    }
   ],
   "source": [
    "G = img[:, :, 1]\n",
    "G"
   ]
  },
  {
   "cell_type": "code",
   "execution_count": 6,
   "metadata": {},
   "outputs": [
    {
     "data": {
      "text/plain": [
       "array([[  0, 127,  21,  21,  21, 255, 255],\n",
       "       [ 36,  36,  36,  36,  36,   0,   0],\n",
       "       [164,   0,   0,   0,   0,   0,   0],\n",
       "       [255, 255, 255, 255, 255, 255, 255]], dtype=uint8)"
      ]
     },
     "execution_count": 6,
     "metadata": {},
     "output_type": "execute_result"
    }
   ],
   "source": [
    "B = img[:, :, 2]\n",
    "B"
   ]
  },
  {
   "cell_type": "code",
   "execution_count": 7,
   "metadata": {},
   "outputs": [],
   "source": [
    "R_flat = np.ravel(R)\n",
    "G_flat = np.ravel(G)\n",
    "B_flat = np.ravel(B)"
   ]
  },
  {
   "cell_type": "code",
   "execution_count": 8,
   "metadata": {},
   "outputs": [
    {
     "data": {
      "text/plain": [
       "array([  0, 127, 136, 136, 136, 255, 255, 237, 237, 237, 237, 237, 255,\n",
       "       255, 163,   0,   0,   0,   0,   0,   0,   0,   0,   0,   0,   0,\n",
       "         0,   0], dtype=uint8)"
      ]
     },
     "execution_count": 8,
     "metadata": {},
     "output_type": "execute_result"
    }
   ],
   "source": [
    "R_flat"
   ]
  },
  {
   "cell_type": "code",
   "execution_count": 9,
   "metadata": {},
   "outputs": [
    {
     "data": {
      "text/plain": [
       "array([  0, 127,   0,   0,   0, 255, 255,  28,  28,  28,  28,  28, 242,\n",
       "       242,  73,   0,   0,   0,   0,   0,   0,   0,   0,   0,   0,   0,\n",
       "         0,   0], dtype=uint8)"
      ]
     },
     "execution_count": 9,
     "metadata": {},
     "output_type": "execute_result"
    }
   ],
   "source": [
    "G_flat"
   ]
  },
  {
   "cell_type": "code",
   "execution_count": 10,
   "metadata": {},
   "outputs": [
    {
     "data": {
      "text/plain": [
       "array([  0, 127,  21,  21,  21, 255, 255,  36,  36,  36,  36,  36,   0,\n",
       "         0, 164,   0,   0,   0,   0,   0,   0, 255, 255, 255, 255, 255,\n",
       "       255, 255], dtype=uint8)"
      ]
     },
     "execution_count": 10,
     "metadata": {},
     "output_type": "execute_result"
    }
   ],
   "source": [
    "B_flat"
   ]
  },
  {
   "cell_type": "code",
   "execution_count": 11,
   "metadata": {},
   "outputs": [
    {
     "data": {
      "image/png": "[encoded data removed]",
      "text/plain": [
       "<Figure size 1500x400 with 1 Axes>"
      ]
     },
     "metadata": {},
     "output_type": "display_data"
    }
   ],
   "source": [
    "plt.figure(figsize=(15, 4))\n",
    "\n",
    "flatten_img_full = np.vstack((R_flat, G_flat, B_flat)).T.reshape((1, height*width, 3)) \n",
    "\n",
    "plt.imshow(flatten_img_full)\n",
    "plt.xticks([])\n",
    "plt.yticks([])\n",
    "None"
   ]
  },
  {
   "cell_type": "code",
   "execution_count": null,
   "metadata": {},
   "outputs": [],
   "source": []
  },
  {
   "cell_type": "code",
   "execution_count": null,
   "metadata": {},
   "outputs": [],
   "source": []
  },
  {
   "cell_type": "markdown",
   "metadata": {},
   "source": [
    "### Read function"
   ]
  },
  {
   "cell_type": "code",
   "execution_count": 12,
   "metadata": {},
   "outputs": [],
   "source": [
    "def read_png(path_to_png, draw_img=False, draw_flatten_img=False):\n",
    "    \"\"\"\n",
    "    Read .png image and return flatten array of each channel\n",
    "    Draw image and flatten image if required\n",
    "    \n",
    "    :return: 1) img - original image, shape=(heigth, width, 3)\n",
    "             2) R_flat - flatten 1d array of R-cahnnel pixel values, shape=(heigth*width,)\n",
    "             3) G_flat, B_flat - analogically to R_flat\n",
    "    \"\"\"\n",
    "    img = cv.imread(path_to_png)\n",
    "    img = cv.cvtColor(img, cv.COLOR_BGR2RGB)  # BGR -> RGB\n",
    "    \n",
    "    R = img[:, :, 0].astype(int)\n",
    "    G = img[:, :, 1].astype(int)\n",
    "    B = img[:, :, 2].astype(int)\n",
    "    R_flat = np.ravel(R)\n",
    "    G_flat = np.ravel(G)\n",
    "    B_flat = np.ravel(B)\n",
    "    \n",
    "    height, width = img.shape[0], img.shape[1]\n",
    "    if draw_img:\n",
    "        plt.imshow(img)\n",
    "        plt.title(f\"Image {height}x{width}\")\n",
    "        plt.xticks([])\n",
    "        plt.yticks([])\n",
    "    if draw_flatten_img:\n",
    "        plt.figure(figsize=(15, 4))\n",
    "        flatten_img = np.vstack((R_flat, G_flat, B_flat)).T.reshape((1, height*width, 3)) \n",
    "        plt.imshow(flatten_img)\n",
    "        plt.title(f\"Flatted image 1x{height * width}\")\n",
    "        plt.xticks([])\n",
    "        plt.yticks([])\n",
    "        \n",
    "    return img, R_flat, G_flat, B_flat"
   ]
  },
  {
   "cell_type": "code",
   "execution_count": 13,
   "metadata": {},
   "outputs": [
    {
     "data": {
      "image/png": "[encoded data removed]",
      "text/plain": [
       "<Figure size 640x480 with 1 Axes>"
      ]
     },
     "metadata": {},
     "output_type": "display_data"
    },
    {
     "data": {
      "image/png": "[encoded data removed]",
      "text/plain": [
       "<Figure size 1500x400 with 1 Axes>"
      ]
     },
     "metadata": {},
     "output_type": "display_data"
    }
   ],
   "source": [
    "_, R_flat, G_flat, B_flat = read_png('./png_images/28_pixels.png', True, True)"
   ]
  },
  {
   "cell_type": "code",
   "execution_count": 14,
   "metadata": {},
   "outputs": [
    {
     "data": {
      "text/plain": [
       "array([  0, 127, 136, 136, 136, 255, 255, 237, 237, 237, 237, 237, 255,\n",
       "       255, 163,   0,   0,   0,   0,   0,   0,   0,   0,   0,   0,   0,\n",
       "         0,   0])"
      ]
     },
     "execution_count": 14,
     "metadata": {},
     "output_type": "execute_result"
    }
   ],
   "source": [
    "R_flat"
   ]
  },
  {
   "cell_type": "code",
   "execution_count": 15,
   "metadata": {},
   "outputs": [
    {
     "data": {
      "text/plain": [
       "array([  0, 127,   0,   0,   0, 255, 255,  28,  28,  28,  28,  28, 242,\n",
       "       242,  73,   0,   0,   0,   0,   0,   0,   0,   0,   0,   0,   0,\n",
       "         0,   0])"
      ]
     },
     "execution_count": 15,
     "metadata": {},
     "output_type": "execute_result"
    }
   ],
   "source": [
    "G_flat"
   ]
  },
  {
   "cell_type": "code",
   "execution_count": 16,
   "metadata": {},
   "outputs": [
    {
     "data": {
      "text/plain": [
       "array([  0, 127,  21,  21,  21, 255, 255,  36,  36,  36,  36,  36,   0,\n",
       "         0, 164,   0,   0,   0,   0,   0,   0, 255, 255, 255, 255, 255,\n",
       "       255, 255])"
      ]
     },
     "execution_count": 16,
     "metadata": {},
     "output_type": "execute_result"
    }
   ],
   "source": [
    "B_flat"
   ]
  },
  {
   "cell_type": "code",
   "execution_count": null,
   "metadata": {},
   "outputs": [],
   "source": []
  },
  {
   "cell_type": "markdown",
   "metadata": {},
   "source": [
    "### Draw channels"
   ]
  },
  {
   "cell_type": "code",
   "execution_count": 17,
   "metadata": {},
   "outputs": [
    {
     "data": {
      "image/png": "[encoded data removed]",
      "text/plain": [
       "<Figure size 640x480 with 1 Axes>"
      ]
     },
     "metadata": {},
     "output_type": "display_data"
    },
    {
     "data": {
      "image/png": "[encoded data removed]",
      "text/plain": [
       "<Figure size 1500x400 with 1 Axes>"
      ]
     },
     "metadata": {},
     "output_type": "display_data"
    }
   ],
   "source": [
    "img, R, G, B = read_png('./png_images/R_video.png', True, True)"
   ]
  },
  {
   "cell_type": "code",
   "execution_count": 36,
   "metadata": {},
   "outputs": [],
   "source": [
    "def heat_channel(pixel_values, channel='R'):\n",
    "    \"\"\"\n",
    "    Draws heatmap of single image channel\n",
    "    \n",
    "    :param pixel_values: 2d array of one image channel OR 1d array of one flatten image channel \n",
    "    :param channel: name of the channel ('R', 'G' or 'B')\n",
    "    :return: None\n",
    "    \"\"\"\n",
    "    assert channel in ['R', 'G', 'B'], \"channel must be R, G or B\"\n",
    "    \n",
    "    if len(pixel_values.shape) == 1:\n",
    "        pixel_values = pixel_values.reshape((1, pixel_values.shape[0]))\n",
    "    else:\n",
    "        assert len(pixel_values.shape) == 2, \"pixel_values must be 1d or 2d array\"\n",
    "    \n",
    "    # choose color pallete\n",
    "    if channel == 'R':\n",
    "        color_palete = sns.dark_palette(\"#FF0000\", reverse=False, as_cmap=True)\n",
    "    elif channel == 'G':\n",
    "        color_palete = sns.dark_palette(\"#00FF00\", reverse=False, as_cmap=True)\n",
    "    elif channel == 'B':\n",
    "        color_palete = sns.dark_palette(\"#0000FF\", reverse=False, as_cmap=True)\n",
    "    \n",
    "    # draw heatmap\n",
    "    sns.heatmap(pixel_values, \n",
    "                annot=True, \n",
    "                cmap=color_palete,\n",
    "                fmt='g',\n",
    "                cbar=False,\n",
    "                linewidths=0.9,\n",
    "                linecolor='black')\n",
    "    plt.grid()\n",
    "    plt.xticks([])\n",
    "    plt.yticks([])"
   ]
  },
  {
   "cell_type": "code",
   "execution_count": 28,
   "metadata": {},
   "outputs": [
    {
     "data": {
      "image/png": "[encoded data removed]",
      "text/plain": [
       "<Figure size 1700x500 with 3 Axes>"
      ]
     },
     "metadata": {},
     "output_type": "display_data"
    }
   ],
   "source": [
    "plt.figure(figsize=(17, 5))\n",
    "\n",
    "plt.subplot(1, 3, 1)\n",
    "heat_channel(img[:, :, 0], 'R')\n",
    "\n",
    "plt.subplot(1, 3, 2)\n",
    "heat_channel(img[:, :, 1], 'G')\n",
    "\n",
    "plt.subplot(1, 3, 3)\n",
    "heat_channel(img[:, :, 2], 'B')"
   ]
  },
  {
   "cell_type": "code",
   "execution_count": 42,
   "metadata": {},
   "outputs": [
    {
     "data": {
      "image/png": "[encoded data removed]",
      "text/plain": [
       "<Figure size 1700x300 with 3 Axes>"
      ]
     },
     "metadata": {},
     "output_type": "display_data"
    }
   ],
   "source": [
    "plt.figure(figsize=(17, 3))\n",
    "\n",
    "# indexes_start = -15\n",
    "# indexes_end = len(R)\n",
    "\n",
    "indexes_start = 0\n",
    "indexes_end = 15\n",
    "\n",
    "\n",
    "plt.subplot(3, 1, 1)\n",
    "heat_channel(R[indexes_start:indexes_end], 'R')\n",
    "\n",
    "plt.subplot(3, 1, 2)\n",
    "heat_channel(G[indexes_start:indexes_end], 'G')\n",
    "\n",
    "plt.subplot(3, 1, 3)\n",
    "heat_channel(B[indexes_start:indexes_end], 'B')"
   ]
  },
  {
   "cell_type": "code",
   "execution_count": 7,
   "metadata": {},
   "outputs": [],
   "source": [
    "def hash(r, g, b):\n",
    "    return (r * 3 + g * 5 + b * 7) % 64"
   ]
  },
  {
   "cell_type": "code",
   "execution_count": 10,
   "metadata": {},
   "outputs": [
    {
     "data": {
      "text/plain": [
       "2"
      ]
     },
     "execution_count": 10,
     "metadata": {},
     "output_type": "execute_result"
    }
   ],
   "source": [
    "hash(140, 77, 251)"
   ]
  },
  {
   "cell_type": "code",
   "execution_count": 59,
   "metadata": {},
   "outputs": [],
   "source": [
    "a = {'QOI_DIFF_SMALL': [3, 5, 6]}"
   ]
  },
  {
   "cell_type": "code",
   "execution_count": 72,
   "metadata": {},
   "outputs": [
    {
     "data": {
      "text/plain": [
       "'QOI_DIFF_SMALL'"
      ]
     },
     "execution_count": 72,
     "metadata": {},
     "output_type": "execute_result"
    }
   ],
   "source": [
    "list(a.keys())[0]"
   ]
  },
  {
   "cell_type": "code",
   "execution_count": 12,
   "metadata": {},
   "outputs": [
    {
     "data": {
      "text/plain": [
       "49"
      ]
     },
     "execution_count": 12,
     "metadata": {},
     "output_type": "execute_result"
    }
   ],
   "source": [
    "hash(255, 255, 255)"
   ]
  },
  {
   "cell_type": "code",
   "execution_count": 13,
   "metadata": {},
   "outputs": [
    {
     "data": {
      "text/plain": [
       "28"
      ]
     },
     "execution_count": 13,
     "metadata": {},
     "output_type": "execute_result"
    }
   ],
   "source": [
    "hash(255, 255, 252)"
   ]
  },
  {
   "cell_type": "code",
   "execution_count": 15,
   "metadata": {},
   "outputs": [],
   "source": [
    "n = 1000\n",
    "hashes = np.zeros(n)\n",
    "\n",
    "r_vals = np.zeros(n)\n",
    "g_vals = np.zeros(n)\n",
    "b_vals = np.zeros(n)\n",
    "\n",
    "\n",
    "for i in range(n):\n",
    "    r_vals[i] = np.random.randint(0, 256)\n",
    "    g_vals[i] = np.random.randint(0, 256)\n",
    "    b_vals[i] = np.random.randint(0, 256)\n",
    "    \n",
    "    hashes[i] = hash(r_vals[i], g_vals[i], b_vals[i])"
   ]
  },
  {
   "cell_type": "code",
   "execution_count": 17,
   "metadata": {},
   "outputs": [
    {
     "data": {
      "text/plain": [
       "array([ 0.,  1.,  2.,  3.,  4.,  5.,  6.,  7.,  8.,  9., 10., 11., 12.,\n",
       "       13., 14., 15., 16., 17., 18., 19., 20., 21., 22., 23., 24., 25.,\n",
       "       26., 27., 28., 29., 30., 31., 32., 33., 34., 35., 36., 37., 38.,\n",
       "       39., 40., 41., 42., 43., 44., 45., 46., 47., 48., 49., 50., 51.,\n",
       "       52., 53., 54., 55., 56., 57., 58., 59., 60., 61., 62., 63.])"
      ]
     },
     "execution_count": 17,
     "metadata": {},
     "output_type": "execute_result"
    }
   ],
   "source": [
    "np.unique(hashes)"
   ]
  },
  {
   "cell_type": "code",
   "execution_count": 38,
   "metadata": {},
   "outputs": [
    {
     "data": {
      "text/plain": [
       "array([ 40,  96,  99, 116, 123, 136, 144, 146, 172, 413, 473, 514, 524,\n",
       "       525, 529, 588, 597, 608, 738, 803, 884, 920, 939], dtype=int64)"
      ]
     },
     "execution_count": 38,
     "metadata": {},
     "output_type": "execute_result"
    }
   ],
   "source": [
    "indexes = np.where(hashes == 55)[0]\n",
    "indexes"
   ]
  },
  {
   "cell_type": "code",
   "execution_count": 41,
   "metadata": {},
   "outputs": [
    {
     "data": {
      "text/plain": [
       "array([181.,  84., 174.,  46.,  75., 190., 221., 247.,  63., 170., 229.,\n",
       "       109., 130., 174., 119., 157., 148.,  94., 169., 196., 157.,  53.,\n",
       "        15.])"
      ]
     },
     "execution_count": 41,
     "metadata": {},
     "output_type": "execute_result"
    }
   ],
   "source": [
    "r_vals[indexes]"
   ]
  },
  {
   "cell_type": "code",
   "execution_count": 42,
   "metadata": {},
   "outputs": [
    {
     "data": {
      "text/plain": [
       "array([140.,  86., 254., 209.,   7., 218., 106., 107.,  25.,   6.,  40.,\n",
       "       200., 239.,  27., 245., 159.,  76., 168., 231.,  27., 177., 231.,\n",
       "       189.])"
      ]
     },
     "execution_count": 42,
     "metadata": {},
     "output_type": "execute_result"
    }
   ],
   "source": [
    "g_vals[indexes]"
   ]
  },
  {
   "cell_type": "code",
   "execution_count": 43,
   "metadata": {},
   "outputs": [
    {
     "data": {
      "text/plain": [
       "array([ 68., 139.,  17., 168., 181., 237.,  66.,  45., 219.,  77.,  64.,\n",
       "       248.,  74., 106., 175., 211., 137.,   3., 255., 188., 253., 195.,\n",
       "        31.])"
      ]
     },
     "execution_count": 43,
     "metadata": {},
     "output_type": "execute_result"
    }
   ],
   "source": [
    "b_vals[indexes]"
   ]
  },
  {
   "cell_type": "code",
   "execution_count": 44,
   "metadata": {},
   "outputs": [],
   "source": [
    "R = r_vals[indexes]\n",
    "G = g_vals[indexes]\n",
    "B = b_vals[indexes]"
   ]
  },
  {
   "cell_type": "code",
   "execution_count": 45,
   "metadata": {},
   "outputs": [
    {
     "data": {
      "image/png": "[encoded data removed]",
      "text/plain": [
       "<Figure size 1700x300 with 3 Axes>"
      ]
     },
     "metadata": {},
     "output_type": "display_data"
    }
   ],
   "source": [
    "plt.figure(figsize=(17, 3))\n",
    "\n",
    "indexes_border = 5\n",
    "\n",
    "plt.subplot(3, 1, 1)\n",
    "heat_channel(R[:indexes_border], 'R')\n",
    "\n",
    "plt.subplot(3, 1, 2)\n",
    "heat_channel(G[:indexes_border], 'G')\n",
    "\n",
    "plt.subplot(3, 1, 3)\n",
    "heat_channel(B[:indexes_border], 'B')"
   ]
  },
  {
   "cell_type": "code",
   "execution_count": 48,
   "metadata": {},
   "outputs": [
    {
     "data": {
      "text/plain": [
       "55"
      ]
     },
     "execution_count": 48,
     "metadata": {},
     "output_type": "execute_result"
    }
   ],
   "source": [
    "hash(181, 140, 68)"
   ]
  },
  {
   "cell_type": "code",
   "execution_count": 49,
   "metadata": {},
   "outputs": [
    {
     "data": {
      "text/plain": [
       "55"
      ]
     },
     "execution_count": 49,
     "metadata": {},
     "output_type": "execute_result"
    }
   ],
   "source": [
    "hash(75, 7, 181)"
   ]
  },
  {
   "cell_type": "code",
   "execution_count": null,
   "metadata": {},
   "outputs": [],
   "source": []
  },
  {
   "cell_type": "markdown",
   "metadata": {},
   "source": [
    "## Bytes in python"
   ]
  },
  {
   "cell_type": "code",
   "execution_count": 423,
   "metadata": {},
   "outputs": [],
   "source": [
    "QOI_OP_RUN = 0xc0  # 11xxxxxx"
   ]
  },
  {
   "cell_type": "code",
   "execution_count": null,
   "metadata": {},
   "outputs": [],
   "source": []
  },
  {
   "cell_type": "code",
   "execution_count": 213,
   "metadata": {},
   "outputs": [
    {
     "data": {
      "text/plain": [
       "'0b11000000'"
      ]
     },
     "execution_count": 213,
     "metadata": {},
     "output_type": "execute_result"
    }
   ],
   "source": [
    "bin(QOI_OP_RUN)"
   ]
  },
  {
   "cell_type": "code",
   "execution_count": 211,
   "metadata": {},
   "outputs": [
    {
     "data": {
      "text/plain": [
       "'0xc0'"
      ]
     },
     "execution_count": 211,
     "metadata": {},
     "output_type": "execute_result"
    }
   ],
   "source": [
    "hex(0b11000000)"
   ]
  },
  {
   "cell_type": "code",
   "execution_count": 300,
   "metadata": {},
   "outputs": [
    {
     "data": {
      "text/plain": [
       "'0xfe'"
      ]
     },
     "execution_count": 300,
     "metadata": {},
     "output_type": "execute_result"
    }
   ],
   "source": [
    "hex(0b11111110)"
   ]
  },
  {
   "cell_type": "code",
   "execution_count": 367,
   "metadata": {},
   "outputs": [
    {
     "data": {
      "text/plain": [
       "b'\\xc0'"
      ]
     },
     "execution_count": 367,
     "metadata": {},
     "output_type": "execute_result"
    }
   ],
   "source": [
    "# one-byte file\n",
    "with open('./data/file.txt', 'wb') as f:\n",
    "    f.write(b'\\xc0')  # 1 byte (use this)\n",
    "    # f.write(b'111110')  # 6 bytes\n",
    "    \n",
    "with open('./data/file.txt', 'rb') as f:\n",
    "    val = f.read()\n",
    "    \n",
    "val"
   ]
  },
  {
   "cell_type": "code",
   "execution_count": 241,
   "metadata": {},
   "outputs": [
    {
     "data": {
      "text/plain": [
       "b'\\xc0'"
      ]
     },
     "execution_count": 241,
     "metadata": {},
     "output_type": "execute_result"
    }
   ],
   "source": [
    "tag = b'\\xc0'\n",
    "tag"
   ]
  },
  {
   "cell_type": "code",
   "execution_count": 386,
   "metadata": {},
   "outputs": [
    {
     "data": {
      "text/plain": [
       "'c0'"
      ]
     },
     "execution_count": 386,
     "metadata": {},
     "output_type": "execute_result"
    }
   ],
   "source": [
    "tag.hex()"
   ]
  },
  {
   "cell_type": "code",
   "execution_count": 442,
   "metadata": {},
   "outputs": [
    {
     "data": {
      "text/plain": [
       "b'\\xc0'"
      ]
     },
     "execution_count": 442,
     "metadata": {},
     "output_type": "execute_result"
    }
   ],
   "source": [
    "# hex -> bytes example (!!)\n",
    "bytes.fromhex('c0')"
   ]
  },
  {
   "cell_type": "code",
   "execution_count": 387,
   "metadata": {},
   "outputs": [
    {
     "data": {
      "text/plain": [
       "'0b11000000'"
      ]
     },
     "execution_count": 387,
     "metadata": {},
     "output_type": "execute_result"
    }
   ],
   "source": [
    "# hex to binary\n",
    "## step 1: ex to dec\n",
    "dec_value = int(tag.hex(), base=16)\n",
    "\n",
    "## step 2: dec to bin\n",
    "bin_value = bin(dec_value)\n",
    "\n",
    "bin_value"
   ]
  },
  {
   "cell_type": "code",
   "execution_count": null,
   "metadata": {},
   "outputs": [],
   "source": []
  },
  {
   "cell_type": "code",
   "execution_count": 402,
   "metadata": {},
   "outputs": [
    {
     "data": {
      "text/plain": [
       "'0b11000101'"
      ]
     },
     "execution_count": 402,
     "metadata": {},
     "output_type": "execute_result"
    }
   ],
   "source": [
    "# sum of binary nums\n",
    "bin1 = 0b11000000\n",
    "bin2 = 0b101\n",
    "\n",
    "bin_sum = bin(bin1 + bin2)\n",
    "\n",
    "bin_sum"
   ]
  },
  {
   "cell_type": "code",
   "execution_count": null,
   "metadata": {},
   "outputs": [],
   "source": []
  },
  {
   "cell_type": "code",
   "execution_count": 338,
   "metadata": {},
   "outputs": [
    {
     "name": "stdout",
     "output_type": "stream",
     "text": [
      "decimal num: 5\n",
      "num ecoded to 6 bits: 000101\n",
      "num ecoded to 6 bits: 0b101\n",
      "bits decoded to decimal num: 5 or 5\n"
     ]
    }
   ],
   "source": [
    "# num = np.random.randint(0, 64)\n",
    "num = 5\n",
    "bits_6 = '{0:06b}'.format(num)\n",
    "\n",
    "print('decimal num:', num)\n",
    "print('num ecoded to 6 bits:', bits_6)\n",
    "\n",
    "print('num ecoded to 6 bits:', bin(num))\n",
    "\n",
    "print('bits decoded to decimal num:', int(bin(num), 2), 'or', int(bits_6, 2))"
   ]
  },
  {
   "cell_type": "code",
   "execution_count": 314,
   "metadata": {},
   "outputs": [
    {
     "data": {
      "text/plain": [
       "'0b111110'"
      ]
     },
     "execution_count": 314,
     "metadata": {},
     "output_type": "execute_result"
    }
   ],
   "source": [
    "tag_run = '0b11000000'\n",
    "num_binary = bin(num)\n",
    "\n",
    "num_binary"
   ]
  },
  {
   "cell_type": "code",
   "execution_count": 345,
   "metadata": {},
   "outputs": [
    {
     "name": "stdout",
     "output_type": "stream",
     "text": [
      "0b11111110\n"
     ]
    }
   ],
   "source": [
    "# union 2-bits tag and 6-bits number\n",
    "\n",
    "print(bin(int(tag_run, 2) | int(num_binary, 2)))"
   ]
  },
  {
   "cell_type": "code",
   "execution_count": 349,
   "metadata": {},
   "outputs": [
    {
     "name": "stdout",
     "output_type": "stream",
     "text": [
      "0b110\n",
      "110\n"
     ]
    }
   ],
   "source": [
    "# convert bin to string\n",
    "num = 6\n",
    "\n",
    "print(bin_num)\n",
    "print(bin(num)[2:])"
   ]
  },
  {
   "cell_type": "code",
   "execution_count": 341,
   "metadata": {},
   "outputs": [
    {
     "data": {
      "text/plain": [
       "b'100'"
      ]
     },
     "execution_count": 341,
     "metadata": {},
     "output_type": "execute_result"
    }
   ],
   "source": [
    "# convert string to bytes\n",
    "bytes('100', 'utf-8')"
   ]
  },
  {
   "cell_type": "code",
   "execution_count": 364,
   "metadata": {},
   "outputs": [
    {
     "name": "stdout",
     "output_type": "stream",
     "text": [
      "0b101\n",
      "101\n",
      "b'101'\n"
     ]
    }
   ],
   "source": [
    "# All convertions\n",
    "num = 5\n",
    "\n",
    "bin_num = bin(num)\n",
    "str_bin_num = bin(num)[2:]\n",
    "bytes_num = bytes(str_bin_num, 'utf-8')\n",
    "\n",
    "print(bin_num)\n",
    "print(str_bin_num)\n",
    "print(bytes_num)"
   ]
  },
  {
   "cell_type": "code",
   "execution_count": 409,
   "metadata": {},
   "outputs": [],
   "source": [
    "with open('./data/file.txt', 'wb') as f:\n",
    "    f.write(bytes_num)  # don't use"
   ]
  },
  {
   "cell_type": "code",
   "execution_count": null,
   "metadata": {},
   "outputs": [],
   "source": []
  },
  {
   "cell_type": "code",
   "execution_count": null,
   "metadata": {},
   "outputs": [],
   "source": []
  },
  {
   "cell_type": "code",
   "execution_count": null,
   "metadata": {},
   "outputs": [],
   "source": []
  },
  {
   "cell_type": "markdown",
   "metadata": {},
   "source": [
    "## Encode, decode QOI_RUN"
   ]
  },
  {
   "cell_type": "code",
   "execution_count": 200,
   "metadata": {},
   "outputs": [],
   "source": [
    "QOI_RUN = 0xc0  # 11xxxxxx\n",
    "\n",
    "# run_length = np.random.randint(0, 62)  # run-length is stored with a bias of -1 (run_length=0-61)\n",
    "run_length = 50"
   ]
  },
  {
   "cell_type": "code",
   "execution_count": 260,
   "metadata": {},
   "outputs": [
    {
     "data": {
      "text/plain": [
       "'00110010'"
      ]
     },
     "execution_count": 260,
     "metadata": {},
     "output_type": "execute_result"
    }
   ],
   "source": [
    "np.binary_repr(run_length, width=8)"
   ]
  },
  {
   "cell_type": "code",
   "execution_count": 201,
   "metadata": {},
   "outputs": [
    {
     "data": {
      "text/plain": [
       "242"
      ]
     },
     "execution_count": 201,
     "metadata": {},
     "output_type": "execute_result"
    }
   ],
   "source": [
    "sum_dec = QOI_RUN + run_length\n",
    "sum_dec"
   ]
  },
  {
   "cell_type": "code",
   "execution_count": 202,
   "metadata": {},
   "outputs": [
    {
     "data": {
      "text/plain": [
       "'0xf2'"
      ]
     },
     "execution_count": 202,
     "metadata": {},
     "output_type": "execute_result"
    }
   ],
   "source": [
    "hex(sum_dec)"
   ]
  },
  {
   "cell_type": "code",
   "execution_count": 203,
   "metadata": {},
   "outputs": [
    {
     "data": {
      "text/plain": [
       "'f2'"
      ]
     },
     "execution_count": 203,
     "metadata": {},
     "output_type": "execute_result"
    }
   ],
   "source": [
    "hex_string = hex(sum_dec)[2:]\n",
    "hex_string"
   ]
  },
  {
   "cell_type": "code",
   "execution_count": null,
   "metadata": {},
   "outputs": [],
   "source": []
  },
  {
   "cell_type": "code",
   "execution_count": 204,
   "metadata": {},
   "outputs": [
    {
     "data": {
      "text/plain": [
       "b'\\xf2'"
      ]
     },
     "execution_count": 204,
     "metadata": {},
     "output_type": "execute_result"
    }
   ],
   "source": [
    "res = bytes.fromhex(hex_string)\n",
    "res"
   ]
  },
  {
   "cell_type": "code",
   "execution_count": 205,
   "metadata": {},
   "outputs": [],
   "source": [
    "# 1-byte file\n",
    "with open('./data/file.txt', 'wb') as f:\n",
    "    f.write(res)"
   ]
  },
  {
   "cell_type": "code",
   "execution_count": null,
   "metadata": {},
   "outputs": [],
   "source": []
  },
  {
   "cell_type": "markdown",
   "metadata": {},
   "source": [
    "**Decode QOI_RUN**"
   ]
  },
  {
   "cell_type": "code",
   "execution_count": 206,
   "metadata": {},
   "outputs": [
    {
     "data": {
      "text/plain": [
       "b'\\xf2'"
      ]
     },
     "execution_count": 206,
     "metadata": {},
     "output_type": "execute_result"
    }
   ],
   "source": [
    "with open('./data/file.txt', 'rb') as f:\n",
    "    val = f.read()\n",
    "    \n",
    "content = io.BytesIO(val) \n",
    "size = content.getbuffer().nbytes\n",
    "assert size == 1, 'this file must have size = 1 byte'\n",
    "\n",
    "val"
   ]
  },
  {
   "cell_type": "code",
   "execution_count": 207,
   "metadata": {},
   "outputs": [
    {
     "data": {
      "text/plain": [
       "bytes"
      ]
     },
     "execution_count": 207,
     "metadata": {},
     "output_type": "execute_result"
    }
   ],
   "source": [
    "type(val)"
   ]
  },
  {
   "cell_type": "code",
   "execution_count": 208,
   "metadata": {},
   "outputs": [
    {
     "data": {
      "text/plain": [
       "bytearray(b'\\xf2')"
      ]
     },
     "execution_count": 208,
     "metadata": {},
     "output_type": "execute_result"
    }
   ],
   "source": [
    "bytearray(val)"
   ]
  },
  {
   "cell_type": "code",
   "execution_count": 209,
   "metadata": {},
   "outputs": [
    {
     "data": {
      "text/plain": [
       "242"
      ]
     },
     "execution_count": 209,
     "metadata": {},
     "output_type": "execute_result"
    }
   ],
   "source": [
    "byte = bytearray(val)[0]\n",
    "byte"
   ]
  },
  {
   "cell_type": "code",
   "execution_count": 210,
   "metadata": {},
   "outputs": [
    {
     "data": {
      "text/plain": [
       "50"
      ]
     },
     "execution_count": 210,
     "metadata": {},
     "output_type": "execute_result"
    }
   ],
   "source": [
    "run_length_decoded = byte - QOI_RUN\n",
    "run_length_decoded"
   ]
  },
  {
   "cell_type": "markdown",
   "metadata": {},
   "source": [
    "---\n",
    "\n",
    "**Read each bit from single byte**\n",
    "\n",
    "---"
   ]
  },
  {
   "cell_type": "code",
   "execution_count": 211,
   "metadata": {},
   "outputs": [
    {
     "data": {
      "text/plain": [
       "'0b11110010'"
      ]
     },
     "execution_count": 211,
     "metadata": {},
     "output_type": "execute_result"
    }
   ],
   "source": [
    "bit_string = bin(byte)\n",
    "bit_string"
   ]
  },
  {
   "cell_type": "code",
   "execution_count": 212,
   "metadata": {},
   "outputs": [
    {
     "name": "stdout",
     "output_type": "stream",
     "text": [
      "1\n",
      "1\n",
      "1\n",
      "1\n",
      "0\n",
      "0\n",
      "1\n",
      "0\n"
     ]
    }
   ],
   "source": [
    "for bit in bit_string[2:]:\n",
    "    print(bit)"
   ]
  },
  {
   "cell_type": "code",
   "execution_count": null,
   "metadata": {},
   "outputs": [],
   "source": []
  },
  {
   "cell_type": "code",
   "execution_count": 213,
   "metadata": {},
   "outputs": [],
   "source": [
    "Bytes = np.fromfile('./data/file.txt', dtype=\"uint8\")\n",
    "# Bytes = np.fromfile('./requirements.txt', dtype=\"uint8\")\n",
    "Bits = np.unpackbits(Bytes)"
   ]
  },
  {
   "cell_type": "code",
   "execution_count": 214,
   "metadata": {},
   "outputs": [
    {
     "data": {
      "text/plain": [
       "array([242], dtype=uint8)"
      ]
     },
     "execution_count": 214,
     "metadata": {},
     "output_type": "execute_result"
    }
   ],
   "source": [
    "Bytes"
   ]
  },
  {
   "cell_type": "code",
   "execution_count": 215,
   "metadata": {},
   "outputs": [
    {
     "data": {
      "text/plain": [
       "array([1, 1, 1, 1, 0, 0, 1, 0], dtype=uint8)"
      ]
     },
     "execution_count": 215,
     "metadata": {},
     "output_type": "execute_result"
    }
   ],
   "source": [
    "Bits"
   ]
  },
  {
   "cell_type": "code",
   "execution_count": null,
   "metadata": {},
   "outputs": [],
   "source": []
  },
  {
   "cell_type": "code",
   "execution_count": null,
   "metadata": {},
   "outputs": [],
   "source": []
  },
  {
   "cell_type": "code",
   "execution_count": null,
   "metadata": {},
   "outputs": [],
   "source": []
  },
  {
   "cell_type": "markdown",
   "metadata": {},
   "source": [
    "## Encode, decode QOI_DIFF_SMALL\n",
    "\n",
    "`dr`, `dg`, `db` = [-2, 0, 1, 1]\n",
    "\n",
    "(!) Values `dr`, `dg`, `db` are stored as unsigned integers with a bias of 2. E.g. -2 is stored as 0 (b00). 1 is stored as 3 (b11).\n",
    "\n",
    "i.e.\n",
    "- -2 = 00\n",
    "- -1 = 01\n",
    "- 0 = 10\n",
    "- 1 = 11"
   ]
  },
  {
   "cell_type": "code",
   "execution_count": 280,
   "metadata": {},
   "outputs": [
    {
     "data": {
      "text/plain": [
       "(0, 3, 2)"
      ]
     },
     "execution_count": 280,
     "metadata": {},
     "output_type": "execute_result"
    }
   ],
   "source": [
    "QOI_DIFF_SMALL = 0x40  # 01xxxxxx\n",
    "\n",
    "# absolute delta values\n",
    "dr = -2\n",
    "dg = 1\n",
    "db = 0\n",
    "\n",
    "# delta values with bias 2\n",
    "dr = dr + 2\n",
    "dg = dg + 2\n",
    "db = db + 2\n",
    "\n",
    "dr, dg, db"
   ]
  },
  {
   "cell_type": "code",
   "execution_count": 268,
   "metadata": {},
   "outputs": [],
   "source": [
    "sum_dec = QOI_DIFF_SMALL + dr + dg + db  # not correct (!)"
   ]
  },
  {
   "cell_type": "code",
   "execution_count": 269,
   "metadata": {},
   "outputs": [],
   "source": [
    "hex_string = hex(sum_dec)[2:]\n",
    "res = bytes.fromhex(hex_string)\n",
    "\n",
    "# 1-byte file\n",
    "with open('./data/file.txt', 'wb') as f:\n",
    "    f.write(res)"
   ]
  },
  {
   "cell_type": "code",
   "execution_count": 270,
   "metadata": {},
   "outputs": [
    {
     "data": {
      "text/plain": [
       "'0b1000101'"
      ]
     },
     "execution_count": 270,
     "metadata": {},
     "output_type": "execute_result"
    }
   ],
   "source": [
    "bin(sum_dec)"
   ]
  },
  {
   "cell_type": "markdown",
   "metadata": {},
   "source": [
    "**Decode**"
   ]
  },
  {
   "cell_type": "code",
   "execution_count": 271,
   "metadata": {},
   "outputs": [
    {
     "data": {
      "text/plain": [
       "b'E'"
      ]
     },
     "execution_count": 271,
     "metadata": {},
     "output_type": "execute_result"
    }
   ],
   "source": [
    "with open('./data/file.txt', 'rb') as f:\n",
    "    val = f.read()\n",
    "    \n",
    "content = io.BytesIO(val) \n",
    "size = content.getbuffer().nbytes\n",
    "assert size == 1, 'this file must have size = 1 byte'\n",
    "\n",
    "val"
   ]
  },
  {
   "cell_type": "code",
   "execution_count": 272,
   "metadata": {},
   "outputs": [
    {
     "data": {
      "text/plain": [
       "69"
      ]
     },
     "execution_count": 272,
     "metadata": {},
     "output_type": "execute_result"
    }
   ],
   "source": [
    "# byte = bytearray(val)[0]\n",
    "# byte"
   ]
  },
  {
   "cell_type": "code",
   "execution_count": 275,
   "metadata": {},
   "outputs": [
    {
     "data": {
      "text/plain": [
       "array([69], dtype=uint8)"
      ]
     },
     "execution_count": 275,
     "metadata": {},
     "output_type": "execute_result"
    }
   ],
   "source": [
    "bytes_list = np.frombuffer(val, np.dtype('B'))\n",
    "bytes_list"
   ]
  },
  {
   "cell_type": "code",
   "execution_count": 279,
   "metadata": {},
   "outputs": [
    {
     "data": {
      "text/plain": [
       "array([0, 1, 0, 0, 0, 1, 0, 1], dtype=uint8)"
      ]
     },
     "execution_count": 279,
     "metadata": {},
     "output_type": "execute_result"
    }
   ],
   "source": [
    "np.unpackbits(bytes_list)"
   ]
  },
  {
   "cell_type": "code",
   "execution_count": 227,
   "metadata": {},
   "outputs": [
    {
     "data": {
      "text/plain": [
       "array([0, 1, 0, 0, 0, 1, 0, 1], dtype=uint8)"
      ]
     },
     "execution_count": 227,
     "metadata": {},
     "output_type": "execute_result"
    }
   ],
   "source": [
    "Bits"
   ]
  },
  {
   "cell_type": "code",
   "execution_count": null,
   "metadata": {},
   "outputs": [],
   "source": []
  },
  {
   "cell_type": "code",
   "execution_count": null,
   "metadata": {},
   "outputs": [],
   "source": []
  },
  {
   "cell_type": "markdown",
   "metadata": {
    "tags": [],
    "toc-hr-collapsed": true
   },
   "source": [
    "## Bits unpacking"
   ]
  },
  {
   "cell_type": "markdown",
   "metadata": {},
   "source": [
    "**Zero way**"
   ]
  },
  {
   "cell_type": "code",
   "execution_count": 276,
   "metadata": {},
   "outputs": [],
   "source": [
    "Bytes = np.fromfile('./data/file.txt', dtype=\"uint8\")\n",
    "Bits = np.unpackbits(Bytes)"
   ]
  },
  {
   "cell_type": "code",
   "execution_count": 277,
   "metadata": {},
   "outputs": [
    {
     "data": {
      "text/plain": [
       "array([69], dtype=uint8)"
      ]
     },
     "execution_count": 277,
     "metadata": {},
     "output_type": "execute_result"
    }
   ],
   "source": [
    "Bytes"
   ]
  },
  {
   "cell_type": "code",
   "execution_count": 278,
   "metadata": {},
   "outputs": [
    {
     "data": {
      "text/plain": [
       "array([0, 1, 0, 0, 0, 1, 0, 1], dtype=uint8)"
      ]
     },
     "execution_count": 278,
     "metadata": {},
     "output_type": "execute_result"
    }
   ],
   "source": [
    "Bits"
   ]
  },
  {
   "cell_type": "markdown",
   "metadata": {},
   "source": [
    "**First way**"
   ]
  },
  {
   "cell_type": "code",
   "execution_count": 244,
   "metadata": {},
   "outputs": [
    {
     "data": {
      "text/plain": [
       "b'\\xc5\\xf2'"
      ]
     },
     "execution_count": 244,
     "metadata": {},
     "output_type": "execute_result"
    }
   ],
   "source": [
    "# 2-byte file\n",
    "with open('./data/file.txt', 'wb') as f:\n",
    "    f.write(b'\\xc5\\xf2')\n",
    "    \n",
    "with open('./data/file.txt', 'rb') as f:\n",
    "    val = f.read()\n",
    "    \n",
    "val"
   ]
  },
  {
   "cell_type": "code",
   "execution_count": 251,
   "metadata": {},
   "outputs": [
    {
     "data": {
      "text/plain": [
       "array([197, 242], dtype=uint8)"
      ]
     },
     "execution_count": 251,
     "metadata": {},
     "output_type": "execute_result"
    }
   ],
   "source": [
    "bytes_list = np.frombuffer(val, np.dtype('B'))\n",
    "bytes_list"
   ]
  },
  {
   "cell_type": "code",
   "execution_count": 252,
   "metadata": {},
   "outputs": [
    {
     "data": {
      "text/plain": [
       "array([1, 1, 0, 0, 0, 1, 0, 1, 1, 1, 1, 1, 0, 0, 1, 0], dtype=uint8)"
      ]
     },
     "execution_count": 252,
     "metadata": {},
     "output_type": "execute_result"
    }
   ],
   "source": [
    "np.unpackbits(bytes_list)"
   ]
  },
  {
   "cell_type": "code",
   "execution_count": 254,
   "metadata": {},
   "outputs": [
    {
     "name": "stdout",
     "output_type": "stream",
     "text": [
      "byte 1: [1 1 0 0 0 1 0 1]\n",
      "byte 2: [1 1 1 1 0 0 1 0]\n"
     ]
    }
   ],
   "source": [
    "for i, byte in enumerate(bytes_list):\n",
    "    print(f'byte {i+1}:', np.unpackbits(byte))"
   ]
  },
  {
   "cell_type": "code",
   "execution_count": null,
   "metadata": {},
   "outputs": [],
   "source": []
  },
  {
   "cell_type": "code",
   "execution_count": 256,
   "metadata": {},
   "outputs": [
    {
     "data": {
      "text/plain": [
       "array([1, 1], dtype=uint8)"
      ]
     },
     "execution_count": 256,
     "metadata": {},
     "output_type": "execute_result"
    }
   ],
   "source": [
    "np.unpackbits(byte, count=2)"
   ]
  },
  {
   "cell_type": "code",
   "execution_count": null,
   "metadata": {},
   "outputs": [],
   "source": []
  },
  {
   "cell_type": "code",
   "execution_count": null,
   "metadata": {},
   "outputs": [],
   "source": []
  },
  {
   "cell_type": "markdown",
   "metadata": {},
   "source": [
    "**Second way**"
   ]
  },
  {
   "cell_type": "code",
   "execution_count": 229,
   "metadata": {},
   "outputs": [
    {
     "data": {
      "text/plain": [
       "b'\\xc5\\xf2'"
      ]
     },
     "execution_count": 229,
     "metadata": {},
     "output_type": "execute_result"
    }
   ],
   "source": [
    "# 2-byte file\n",
    "with open('./data/file.txt', 'wb') as f:\n",
    "    f.write(b'\\xc5\\xf2')\n",
    "    \n",
    "with open('./data/file.txt', 'rb') as f:\n",
    "    val = f.read()\n",
    "    \n",
    "val"
   ]
  },
  {
   "cell_type": "code",
   "execution_count": 230,
   "metadata": {},
   "outputs": [
    {
     "data": {
      "text/plain": [
       "bytearray(b'\\xc5\\xf2')"
      ]
     },
     "execution_count": 230,
     "metadata": {},
     "output_type": "execute_result"
    }
   ],
   "source": [
    "bytearray(val)"
   ]
  },
  {
   "cell_type": "code",
   "execution_count": 231,
   "metadata": {},
   "outputs": [
    {
     "name": "stdout",
     "output_type": "stream",
     "text": [
      "197 242\n",
      "\n"
     ]
    }
   ],
   "source": [
    "first_val = bytearray(val)[0]\n",
    "second_val = bytearray(val)[1]\n",
    "\n",
    "print(first_val, second_val)\n",
    "print()"
   ]
  },
  {
   "cell_type": "code",
   "execution_count": 236,
   "metadata": {},
   "outputs": [
    {
     "name": "stdout",
     "output_type": "stream",
     "text": [
      "197 <class 'int'>\n",
      "242 <class 'int'>\n"
     ]
    }
   ],
   "source": [
    "for elem in bytearray(val):\n",
    "    print(elem, type(elem))"
   ]
  },
  {
   "cell_type": "code",
   "execution_count": null,
   "metadata": {},
   "outputs": [
    {
     "data": {
      "text/plain": [
       "'0b11000101'"
      ]
     },
     "execution_count": 232,
     "metadata": {},
     "output_type": "execute_result"
    }
   ],
   "source": [
    "bin(first_val)"
   ]
  },
  {
   "cell_type": "code",
   "execution_count": 233,
   "metadata": {},
   "outputs": [
    {
     "data": {
      "text/plain": [
       "'0b11110010'"
      ]
     },
     "execution_count": 233,
     "metadata": {},
     "output_type": "execute_result"
    }
   ],
   "source": [
    "bin(second_val)"
   ]
  },
  {
   "cell_type": "code",
   "execution_count": 234,
   "metadata": {},
   "outputs": [
    {
     "name": "stdout",
     "output_type": "stream",
     "text": [
      "first byte: b'\\xc5'\n",
      "second byte: b'\\xf2'\n"
     ]
    }
   ],
   "source": [
    "print('first byte:', bytes.fromhex(hex(first_val)[2:]))\n",
    "\n",
    "print('second byte:', bytes.fromhex(hex(second_val)[2:]))"
   ]
  },
  {
   "cell_type": "code",
   "execution_count": null,
   "metadata": {},
   "outputs": [],
   "source": []
  },
  {
   "cell_type": "markdown",
   "metadata": {},
   "source": [
    "## Split single byte to parts"
   ]
  },
  {
   "cell_type": "code",
   "execution_count": 336,
   "metadata": {},
   "outputs": [],
   "source": [
    "value = 2\n",
    "\n",
    "bits_num = 8\n",
    "offset = 0\n",
    "\n",
    "assert (offset + bits_num) <= 8, \\\n",
    "        f\"{bits_num} bits with offset {offset} can't be paced in single byte\""
   ]
  },
  {
   "cell_type": "code",
   "execution_count": 337,
   "metadata": {},
   "outputs": [],
   "source": [
    "assert 0 <= value <= 255, f\"{value} is too large to be written in a single byte\""
   ]
  },
  {
   "cell_type": "code",
   "execution_count": 338,
   "metadata": {},
   "outputs": [],
   "source": [
    "assert 0 <= num <= (2**bits_num), f\"{value} is too large to be written in {bits_num} bits\""
   ]
  },
  {
   "cell_type": "code",
   "execution_count": 339,
   "metadata": {},
   "outputs": [],
   "source": [
    "# byte = np.array([0, 0, 0, 0, 0, 0, 0, 0])"
   ]
  },
  {
   "cell_type": "code",
   "execution_count": 340,
   "metadata": {},
   "outputs": [],
   "source": [
    "# num = 5\n",
    "# [int(i) for i in \"{0:08b}\".format(num)]"
   ]
  },
  {
   "cell_type": "code",
   "execution_count": 335,
   "metadata": {},
   "outputs": [
    {
     "data": {
      "text/plain": [
       "[1, 1, 1, 1, 0, 0, 0, 0]"
      ]
     },
     "execution_count": 335,
     "metadata": {},
     "output_type": "execute_result"
    }
   ],
   "source": [
    "value_encoded = [int(i) for i in f\"{{0:0{bits_num}b}}\".format(value)]\n",
    "\n",
    "value_encoded"
   ]
  },
  {
   "cell_type": "code",
   "execution_count": 194,
   "metadata": {},
   "outputs": [],
   "source": [
    "byte[offset : offset + bits_num] = value_encoded"
   ]
  },
  {
   "cell_type": "code",
   "execution_count": 195,
   "metadata": {},
   "outputs": [
    {
     "data": {
      "text/plain": [
       "array([0, 0, 1, 0, 1, 0, 0, 0])"
      ]
     },
     "execution_count": 195,
     "metadata": {},
     "output_type": "execute_result"
    }
   ],
   "source": [
    "byte"
   ]
  },
  {
   "cell_type": "code",
   "execution_count": null,
   "metadata": {},
   "outputs": [],
   "source": []
  },
  {
   "cell_type": "code",
   "execution_count": 243,
   "metadata": {},
   "outputs": [],
   "source": [
    "def encode_byte_part(value: int, bits_num: int, offset: int, byte: np.array) -> np.array:\n",
    "    \"\"\"\n",
    "    ...\n",
    "    \n",
    "    :param value:\n",
    "    :param bits_num:\n",
    "    :param offset:\n",
    "    :param byte:\n",
    "    :return:\n",
    "    \"\"\"\n",
    "    assert 0 <= value <= 255, f\"{value} is too large to be written in a single byte\"\n",
    "    assert 0 <= value <= (2**bits_num), f\"{value} is too large to be written in {bits_num} bits\"\n",
    "    assert (offset + bits_num) <= 8, \\\n",
    "        f\"{bits_num} bits with offset {offset} can't be paced in single byte\"\n",
    "    \n",
    "    # bits_num = np.ceil(np.log2(num))  # ?\n",
    "    # byte = np.array([0, 0, 0, 0, 0, 0, 0, 0])\n",
    "    value_encoded = [int(i) for i in f\"{{0:0{bits_num}b}}\".format(value)]\n",
    "    assert len(value_encoded) == bits_num\n",
    "    \n",
    "    byte[offset : offset + bits_num] = value_encoded\n",
    "    \n",
    "    return byte"
   ]
  },
  {
   "cell_type": "code",
   "execution_count": 244,
   "metadata": {},
   "outputs": [
    {
     "data": {
      "text/plain": [
       "array([1, 1, 0, 0, 1, 0, 1, 0])"
      ]
     },
     "execution_count": 244,
     "metadata": {},
     "output_type": "execute_result"
    }
   ],
   "source": [
    "# test QOI_RUN\n",
    "byte = np.array([1, 1, 0, 0, 0, 0, 0, 0])\n",
    "\n",
    "offset = 2\n",
    "bits_num = 6\n",
    "\n",
    "run_length = 10\n",
    "\n",
    "encode_byte_part(run_length, bits_num, offset, byte)"
   ]
  },
  {
   "cell_type": "code",
   "execution_count": 245,
   "metadata": {},
   "outputs": [],
   "source": [
    "# test QOI_DIFF_SMALL\n",
    "byte = np.array([0, 1, 0, 0, 0, 0, 0, 0])  # empty byte with QOI_DIFF_SMALL tag\n",
    "bits_num = 2\n",
    "offset = 2\n",
    "\n",
    "dr = -2  # absolute delta values\n",
    "dg = 1\n",
    "db = 0\n",
    "dr = dr + 2  # delta values with bias 2\n",
    "dg = dg + 2\n",
    "db = db + 2\n",
    "\n",
    "for d_channel in [dr, dg, db]:\n",
    "    byte = encode_byte_part(d_channel, bits_num, offset, byte)\n",
    "    offset += 2"
   ]
  },
  {
   "cell_type": "code",
   "execution_count": 246,
   "metadata": {},
   "outputs": [
    {
     "data": {
      "text/plain": [
       "array([0, 1, 0, 0, 1, 1, 1, 0])"
      ]
     },
     "execution_count": 246,
     "metadata": {},
     "output_type": "execute_result"
    }
   ],
   "source": [
    "byte"
   ]
  },
  {
   "cell_type": "code",
   "execution_count": 248,
   "metadata": {},
   "outputs": [
    {
     "data": {
      "text/plain": [
       "[0, 3, 2]"
      ]
     },
     "execution_count": 248,
     "metadata": {},
     "output_type": "execute_result"
    }
   ],
   "source": [
    "[dr, dg, db]"
   ]
  },
  {
   "cell_type": "code",
   "execution_count": 251,
   "metadata": {},
   "outputs": [
    {
     "data": {
      "text/plain": [
       "'0b10'"
      ]
     },
     "execution_count": 251,
     "metadata": {},
     "output_type": "execute_result"
    }
   ],
   "source": [
    "bin(2)"
   ]
  },
  {
   "cell_type": "markdown",
   "metadata": {},
   "source": [
    "**Write byte to file**"
   ]
  },
  {
   "cell_type": "code",
   "execution_count": 291,
   "metadata": {},
   "outputs": [],
   "source": [
    "byte = np.array([0, 1, 0, 0, 1, 1, 1, 0])"
   ]
  },
  {
   "cell_type": "code",
   "execution_count": 292,
   "metadata": {},
   "outputs": [
    {
     "data": {
      "text/plain": [
       "78"
      ]
     },
     "execution_count": 292,
     "metadata": {},
     "output_type": "execute_result"
    }
   ],
   "source": [
    "byte_dec = np.packbits(byte)[0]\n",
    "byte_dec"
   ]
  },
  {
   "cell_type": "code",
   "execution_count": 293,
   "metadata": {},
   "outputs": [
    {
     "data": {
      "text/plain": [
       "'0b1001110'"
      ]
     },
     "execution_count": 293,
     "metadata": {},
     "output_type": "execute_result"
    }
   ],
   "source": [
    "bin(78)"
   ]
  },
  {
   "cell_type": "code",
   "execution_count": 294,
   "metadata": {},
   "outputs": [
    {
     "data": {
      "text/plain": [
       "'4e'"
      ]
     },
     "execution_count": 294,
     "metadata": {},
     "output_type": "execute_result"
    }
   ],
   "source": [
    "hex_string = hex(78)[2:]\n",
    "hex_string"
   ]
  },
  {
   "cell_type": "code",
   "execution_count": 295,
   "metadata": {},
   "outputs": [
    {
     "data": {
      "text/plain": [
       "b'N'"
      ]
     },
     "execution_count": 295,
     "metadata": {},
     "output_type": "execute_result"
    }
   ],
   "source": [
    "binary = bytes.fromhex(hex_string)\n",
    "binary"
   ]
  },
  {
   "cell_type": "code",
   "execution_count": 296,
   "metadata": {},
   "outputs": [],
   "source": [
    "# one-byte file\n",
    "with open('./data/file.txt', 'ab') as f:\n",
    "    f.write(binary)"
   ]
  },
  {
   "cell_type": "code",
   "execution_count": null,
   "metadata": {},
   "outputs": [],
   "source": []
  },
  {
   "cell_type": "code",
   "execution_count": 290,
   "metadata": {},
   "outputs": [
    {
     "data": {
      "text/plain": [
       "1"
      ]
     },
     "execution_count": 290,
     "metadata": {},
     "output_type": "execute_result"
    }
   ],
   "source": [
    "os.path.getsize(\"./data/file.txt\")"
   ]
  },
  {
   "cell_type": "code",
   "execution_count": 348,
   "metadata": {},
   "outputs": [
    {
     "name": "stdout",
     "output_type": "stream",
     "text": [
      "[1 2 3]\n"
     ]
    }
   ],
   "source": [
    "a = np.array([1, 2, 3])\n",
    "print(f\"{a}\")"
   ]
  },
  {
   "cell_type": "code",
   "execution_count": 350,
   "metadata": {},
   "outputs": [
    {
     "data": {
      "text/plain": [
       "'0b111011'"
      ]
     },
     "execution_count": 350,
     "metadata": {},
     "output_type": "execute_result"
    }
   ],
   "source": [
    "bin(59)"
   ]
  },
  {
   "cell_type": "code",
   "execution_count": 360,
   "metadata": {},
   "outputs": [],
   "source": [
    "byte_dec = 17\n",
    "        \n",
    "hex_string = hex(byte_dec)[2:]  # hex representation of byte (type: string)\n",
    "binary = bytes.fromhex(hex_string)  # convert hex number to type bytes"
   ]
  },
  {
   "cell_type": "code",
   "execution_count": 361,
   "metadata": {},
   "outputs": [
    {
     "data": {
      "text/plain": [
       "'11'"
      ]
     },
     "execution_count": 361,
     "metadata": {},
     "output_type": "execute_result"
    }
   ],
   "source": [
    "hex_string"
   ]
  },
  {
   "cell_type": "code",
   "execution_count": 363,
   "metadata": {},
   "outputs": [
    {
     "data": {
      "text/plain": [
       "b'\\x11'"
      ]
     },
     "execution_count": 363,
     "metadata": {},
     "output_type": "execute_result"
    }
   ],
   "source": [
    "bytes.fromhex(hex_string)"
   ]
  },
  {
   "cell_type": "code",
   "execution_count": 377,
   "metadata": {},
   "outputs": [],
   "source": [
    "dr = 2\n",
    "dg = -5\n",
    "db = -1"
   ]
  },
  {
   "cell_type": "code",
   "execution_count": 378,
   "metadata": {},
   "outputs": [],
   "source": [
    "dr_dg = dr - dg\n",
    "db_dg = db - dg\n",
    "assert -32 <= dg <= 31, f\"value dg={dg} does not lie in the range [-32, 31]\"\n",
    "assert (-8 <= dr_dg <= 7) and (-8 <= db_dg <= 7), \\\n",
    "    f\"values (dr-dg)={dr_dg}, (db-dg)={db_dg} does not lie in the range [-8, 7]\"\n",
    "\n",
    "# Values are stored with a bias of 32 for the green channel \n",
    "# and a bias of 8 for the red and blue channel:\n",
    "dg += 32\n",
    "dr_dg += 8\n",
    "db_dg += 8"
   ]
  },
  {
   "cell_type": "code",
   "execution_count": 383,
   "metadata": {},
   "outputs": [
    {
     "data": {
      "text/plain": [
       "12"
      ]
     },
     "execution_count": 383,
     "metadata": {},
     "output_type": "execute_result"
    }
   ],
   "source": [
    "db_dg"
   ]
  },
  {
   "cell_type": "code",
   "execution_count": 384,
   "metadata": {},
   "outputs": [
    {
     "data": {
      "text/plain": [
       "'0b1100'"
      ]
     },
     "execution_count": 384,
     "metadata": {},
     "output_type": "execute_result"
    }
   ],
   "source": [
    "bin(12)"
   ]
  },
  {
   "cell_type": "code",
   "execution_count": null,
   "metadata": {},
   "outputs": [],
   "source": []
  },
  {
   "cell_type": "markdown",
   "metadata": {},
   "source": [
    "## Time tests"
   ]
  },
  {
   "cell_type": "code",
   "execution_count": 396,
   "metadata": {},
   "outputs": [],
   "source": [
    "QOI_RUN = 0xc0  # 11xxxxxx\n",
    "QOI_DIFF_SMALL = 0x40  # 01xxxxxx\n",
    "QOI_DIFF_MED = 0x80  # 10xxxxxx\n",
    "QOI_RGB = 0xfe # 11111110\n",
    "\n",
    "EMPTY_BYTE = 0x0  # xxxxxxxx"
   ]
  },
  {
   "cell_type": "code",
   "execution_count": null,
   "metadata": {},
   "outputs": [],
   "source": []
  },
  {
   "cell_type": "code",
   "execution_count": 397,
   "metadata": {},
   "outputs": [],
   "source": [
    "a = np.array([1, 2, 3])"
   ]
  },
  {
   "cell_type": "code",
   "execution_count": 398,
   "metadata": {},
   "outputs": [],
   "source": [
    "b = np.copy(a)"
   ]
  },
  {
   "cell_type": "code",
   "execution_count": 399,
   "metadata": {},
   "outputs": [
    {
     "data": {
      "text/plain": [
       "array([1, 2, 3])"
      ]
     },
     "execution_count": 399,
     "metadata": {},
     "output_type": "execute_result"
    }
   ],
   "source": [
    "b"
   ]
  },
  {
   "cell_type": "code",
   "execution_count": 400,
   "metadata": {},
   "outputs": [],
   "source": [
    "a[0] = 0"
   ]
  },
  {
   "cell_type": "code",
   "execution_count": 401,
   "metadata": {},
   "outputs": [
    {
     "data": {
      "text/plain": [
       "array([0, 2, 3])"
      ]
     },
     "execution_count": 401,
     "metadata": {},
     "output_type": "execute_result"
    }
   ],
   "source": [
    "a"
   ]
  },
  {
   "cell_type": "code",
   "execution_count": 402,
   "metadata": {},
   "outputs": [
    {
     "data": {
      "text/plain": [
       "array([1, 2, 3])"
      ]
     },
     "execution_count": 402,
     "metadata": {},
     "output_type": "execute_result"
    }
   ],
   "source": [
    "b"
   ]
  },
  {
   "cell_type": "code",
   "execution_count": null,
   "metadata": {},
   "outputs": [],
   "source": []
  },
  {
   "cell_type": "markdown",
   "metadata": {},
   "source": [
    "## Algorithm"
   ]
  },
  {
   "cell_type": "markdown",
   "metadata": {},
   "source": [
    "### Run test"
   ]
  },
  {
   "cell_type": "code",
   "execution_count": 80,
   "metadata": {},
   "outputs": [
    {
     "data": {
      "image/png": "[encoded data removed]",
      "text/plain": [
       "<Figure size 640x480 with 1 Axes>"
      ]
     },
     "metadata": {},
     "output_type": "display_data"
    },
    {
     "data": {
      "image/png": "[encoded data removed]",
      "text/plain": [
       "<Figure size 1500x400 with 1 Axes>"
      ]
     },
     "metadata": {},
     "output_type": "display_data"
    }
   ],
   "source": [
    "_, R, G, B = read_png('./png_images/28_pixels.png', True, True)\n",
    "# _, R, G, B = read_png('./png_images/R_video.png', True, True)\n",
    "# _, R, G, B = read_png('./png_images/pixel_diff.png', True, True)"
   ]
  },
  {
   "cell_type": "code",
   "execution_count": 81,
   "metadata": {},
   "outputs": [
    {
     "data": {
      "image/png": "[encoded data removed]",
      "text/plain": [
       "<Figure size 1700x300 with 3 Axes>"
      ]
     },
     "metadata": {},
     "output_type": "display_data"
    }
   ],
   "source": [
    "plt.figure(figsize=(17, 3))\n",
    "\n",
    "indexes_start = 0\n",
    "indexes_end = len(R)\n",
    "\n",
    "plt.subplot(3, 1, 1)\n",
    "heat_channel(R[indexes_start:indexes_end], 'R')\n",
    "\n",
    "plt.subplot(3, 1, 2)\n",
    "heat_channel(G[indexes_start:indexes_end], 'G')\n",
    "\n",
    "plt.subplot(3, 1, 3)\n",
    "heat_channel(B[indexes_start:indexes_end], 'B')"
   ]
  },
  {
   "cell_type": "code",
   "execution_count": 754,
   "metadata": {},
   "outputs": [
    {
     "data": {
      "text/plain": [
       "array([[  0,   0,   0],\n",
       "       [127, 127, 127],\n",
       "       [136,   0,  21],\n",
       "       [136,   0,  21],\n",
       "       [136,   0,  21],\n",
       "       [255, 255, 255],\n",
       "       [255, 255, 255],\n",
       "       [237,  28,  36],\n",
       "       [237,  28,  36],\n",
       "       [237,  28,  36],\n",
       "       [237,  28,  36],\n",
       "       [237,  28,  36],\n",
       "       [255, 242,   0],\n",
       "       [255, 242,   0],\n",
       "       [163,  73, 164],\n",
       "       [  0,   0,   0],\n",
       "       [  0,   0,   0],\n",
       "       [  0,   0,   0],\n",
       "       [  0,   0,   0],\n",
       "       [  0,   0,   0],\n",
       "       [  0,   0,   0],\n",
       "       [  0,   0, 255],\n",
       "       [  0,   0, 255],\n",
       "       [  0,   0, 255],\n",
       "       [  0,   0, 255],\n",
       "       [  0,   0, 255],\n",
       "       [  0,   0, 255],\n",
       "       [  0,   0, 255]])"
      ]
     },
     "execution_count": 754,
     "metadata": {},
     "output_type": "execute_result"
    }
   ],
   "source": [
    "img_flat = np.vstack((R, G, B)).T\n",
    "img_flat"
   ]
  },
  {
   "cell_type": "code",
   "execution_count": 755,
   "metadata": {},
   "outputs": [],
   "source": [
    "QOI_RUN = False\n",
    "QOI_DIFF_SMALL = False\n",
    "QOI_DIFF_MED = False\n",
    "QOI_INDEX = False\n",
    "QOI_RGB = False\n",
    "\n",
    "n = len(R)\n",
    "\n",
    "encoded_img = []\n",
    "rgb_elem = {'QOI_RGB': [R[0], G[0], B[0]]}\n",
    "encoded_img.append(rgb_elem)\n",
    "\n",
    "run_length = 0\n",
    "\n",
    "for i in range(1, n):\n",
    "    cur_pixel = img_flat[i]\n",
    "    prev_pixel = img_flat[i-1]\n",
    "    \n",
    "    if np.all(cur_pixel == prev_pixel):\n",
    "        # print('a')\n",
    "        run_length += 1\n",
    "        QOI_RUN = True\n",
    "        continue\n",
    "        \n",
    "    else:\n",
    "        if QOI_RUN:\n",
    "            run_elem = {'QOI_RUN': run_length}\n",
    "            encoded_img.append(run_elem)\n",
    "            run_length = 0\n",
    "            QOI_RUN = False\n",
    "        \n",
    "        rgb_elem = {'QOI_RGB': [R[i], G[i], B[i]]}\n",
    "        encoded_img.append(rgb_elem)\n",
    "    \n",
    "\n",
    "# last run processing\n",
    "if QOI_RUN:\n",
    "    run_elem = {'QOI_RUN': run_length}\n",
    "    encoded_img.append(run_elem)\n",
    "    run_length = 0\n",
    "    QOI_RUN = False"
   ]
  },
  {
   "cell_type": "code",
   "execution_count": 756,
   "metadata": {},
   "outputs": [
    {
     "data": {
      "text/plain": [
       "[{'QOI_RGB': [0, 0, 0]},\n",
       " {'QOI_RGB': [127, 127, 127]},\n",
       " {'QOI_RGB': [136, 0, 21]},\n",
       " {'QOI_RUN': 2},\n",
       " {'QOI_RGB': [255, 255, 255]},\n",
       " {'QOI_RUN': 1},\n",
       " {'QOI_RGB': [237, 28, 36]},\n",
       " {'QOI_RUN': 4},\n",
       " {'QOI_RGB': [255, 242, 0]},\n",
       " {'QOI_RUN': 1},\n",
       " {'QOI_RGB': [163, 73, 164]},\n",
       " {'QOI_RGB': [0, 0, 0]},\n",
       " {'QOI_RUN': 5},\n",
       " {'QOI_RGB': [0, 0, 255]},\n",
       " {'QOI_RUN': 6}]"
      ]
     },
     "execution_count": 756,
     "metadata": {},
     "output_type": "execute_result"
    }
   ],
   "source": [
    "encoded_img"
   ]
  },
  {
   "cell_type": "code",
   "execution_count": 866,
   "metadata": {},
   "outputs": [
    {
     "data": {
      "image/png": "[encoded data removed]",
      "text/plain": [
       "<Figure size 640x480 with 1 Axes>"
      ]
     },
     "metadata": {},
     "output_type": "display_data"
    },
    {
     "data": {
      "image/png": "[encoded data removed]",
      "text/plain": [
       "<Figure size 1500x400 with 1 Axes>"
      ]
     },
     "metadata": {},
     "output_type": "display_data"
    }
   ],
   "source": [
    "_, R, G, B = read_png('./png_images/28_pixels.png', True, True)"
   ]
  },
  {
   "cell_type": "code",
   "execution_count": null,
   "metadata": {},
   "outputs": [],
   "source": []
  },
  {
   "cell_type": "markdown",
   "metadata": {},
   "source": [
    "### Diff test"
   ]
  },
  {
   "cell_type": "code",
   "execution_count": 82,
   "metadata": {},
   "outputs": [
    {
     "data": {
      "image/png": "[encoded data removed]",
      "text/plain": [
       "<Figure size 640x480 with 1 Axes>"
      ]
     },
     "metadata": {},
     "output_type": "display_data"
    },
    {
     "data": {
      "image/png": "[encoded data removed]",
      "text/plain": [
       "<Figure size 1500x400 with 1 Axes>"
      ]
     },
     "metadata": {},
     "output_type": "display_data"
    }
   ],
   "source": [
    "_, R, G, B = read_png('./png_images/pixel_diff.png', True, True)"
   ]
  },
  {
   "cell_type": "code",
   "execution_count": 83,
   "metadata": {},
   "outputs": [
    {
     "data": {
      "image/png": "[encoded data removed]",
      "text/plain": [
       "<Figure size 1700x300 with 3 Axes>"
      ]
     },
     "metadata": {},
     "output_type": "display_data"
    }
   ],
   "source": [
    "plt.figure(figsize=(17, 3))\n",
    "\n",
    "indexes_start = 0\n",
    "indexes_end = len(R)\n",
    "\n",
    "plt.subplot(3, 1, 1)\n",
    "heat_channel(R[indexes_start:indexes_end], 'R')\n",
    "\n",
    "plt.subplot(3, 1, 2)\n",
    "heat_channel(G[indexes_start:indexes_end], 'G')\n",
    "\n",
    "plt.subplot(3, 1, 3)\n",
    "heat_channel(B[indexes_start:indexes_end], 'B')"
   ]
  },
  {
   "cell_type": "code",
   "execution_count": 388,
   "metadata": {},
   "outputs": [
    {
     "data": {
      "text/plain": [
       "array([[140,  77, 251],\n",
       "       [138,  78, 251],\n",
       "       [  0,   0,   0],\n",
       "       [  0,   0,   0],\n",
       "       [140,  77, 252],\n",
       "       [142,  72, 251]])"
      ]
     },
     "execution_count": 388,
     "metadata": {},
     "output_type": "execute_result"
    }
   ],
   "source": [
    "img_flat = np.vstack((R, G, B)).T\n",
    "img_flat"
   ]
  },
  {
   "cell_type": "code",
   "execution_count": 389,
   "metadata": {},
   "outputs": [
    {
     "name": "stdout",
     "output_type": "stream",
     "text": [
      "[138  78 251]\n",
      "[0 0 0]\n",
      "[0 0 0]\n",
      "[140  77 252]\n",
      "[142  72 251]\n"
     ]
    }
   ],
   "source": [
    "QOI_RUN = False\n",
    "QOI_DIFF_SMALL = False\n",
    "QOI_DIFF_MED = False\n",
    "QOI_INDEX = False\n",
    "QOI_RGB = False\n",
    "\n",
    "n = len(R)\n",
    "\n",
    "encoded_img = []\n",
    "rgb_elem = {'QOI_RGB': [R[0], G[0], B[0]]}\n",
    "encoded_img.append(rgb_elem)\n",
    "\n",
    "run_length = 0\n",
    "\n",
    "for i in range(1, n):\n",
    "    cur_pixel = img_flat[i]  # поменять: читать из R, G, B\n",
    "    prev_pixel = img_flat[i-1]\n",
    "    print(cur_pixel)\n",
    "    \n",
    "    if np.all(cur_pixel == prev_pixel):\n",
    "        QOI_RUN = True\n",
    "        run_length += 1\n",
    "        continue\n",
    "    \n",
    "    \n",
    "    dr = R[i] - R[i-1]\n",
    "    dg = G[i] - G[i-1]\n",
    "    db = B[i] - B[i-1]\n",
    "    # print(dr, dg, db)\n",
    "    \n",
    "    # (!) более сильное условие, чем последующее (его проверка должна илти первой) \n",
    "    if (-2 <= dr <= 1) and (-2 <= dg <= 1) and (-2 <= db <= 1):\n",
    "        QOI_DIFF_SMALL = True\n",
    "        small_diff_elem = {'QOI_DIFF_SMALL': [dr, dg, db]}\n",
    "        encoded_img.append(small_diff_elem)\n",
    "        QOI_DIFF_SMALL = False\n",
    "        continue\n",
    "    \n",
    "    if (-32 <= dg <= 31) and (-8 <= (dr-dg) <= 7) and (-8 <= (db-dg) <= 7):\n",
    "        QOI_DIFF_MED = True\n",
    "        med_diff_elem = {'QOI_DIFF_MED': [dg, (dr-dg), (db-dg)]}\n",
    "        encoded_img.append(med_diff_elem)\n",
    "        QOI_DIFF_MED = False\n",
    "        continue\n",
    "    \n",
    "    \n",
    "    else:\n",
    "        if QOI_RUN:\n",
    "            run_elem = {'QOI_RUN': run_length}\n",
    "            encoded_img.append(run_elem)\n",
    "            run_length = 0\n",
    "            QOI_RUN = False\n",
    "        \n",
    "        rgb_elem = {'QOI_RGB': [R[i], G[i], B[i]]}\n",
    "        encoded_img.append(rgb_elem)\n",
    "    \n",
    "\n",
    "# last run processing\n",
    "if QOI_RUN:\n",
    "    run_elem = {'QOI_RUN': run_length}\n",
    "    encoded_img.append(run_elem)\n",
    "    run_length = 0\n",
    "    QOI_RUN = False"
   ]
  },
  {
   "cell_type": "code",
   "execution_count": 50,
   "metadata": {},
   "outputs": [
    {
     "data": {
      "text/plain": [
       "True"
      ]
     },
     "execution_count": 50,
     "metadata": {},
     "output_type": "execute_result"
    }
   ],
   "source": [
    "[1, 2, 3] == [1, 2, 3]"
   ]
  },
  {
   "cell_type": "code",
   "execution_count": 761,
   "metadata": {},
   "outputs": [
    {
     "data": {
      "text/plain": [
       "[{'QOI_RGB': [140, 77, 251]},\n",
       " {'QOI_DIFF_SMALL': [-2, 1, 0]},\n",
       " {'QOI_RGB': [0, 0, 0]},\n",
       " {'QOI_RUN': 1},\n",
       " {'QOI_RGB': [140, 77, 252]},\n",
       " {'QOI_DIFF_MED': [-5, 7, 4]}]"
      ]
     },
     "execution_count": 761,
     "metadata": {},
     "output_type": "execute_result"
    }
   ],
   "source": [
    "encoded_img"
   ]
  },
  {
   "cell_type": "code",
   "execution_count": 763,
   "metadata": {},
   "outputs": [
    {
     "data": {
      "image/png": "[encoded data removed]",
      "text/plain": [
       "<Figure size 1500x400 with 1 Axes>"
      ]
     },
     "metadata": {},
     "output_type": "display_data"
    }
   ],
   "source": [
    "_, R, G, B = read_png('./png_images/pixel_diff.png', False, True)"
   ]
  },
  {
   "cell_type": "code",
   "execution_count": null,
   "metadata": {},
   "outputs": [],
   "source": []
  },
  {
   "cell_type": "code",
   "execution_count": null,
   "metadata": {},
   "outputs": [],
   "source": []
  },
  {
   "cell_type": "code",
   "execution_count": null,
   "metadata": {},
   "outputs": [],
   "source": []
  },
  {
   "cell_type": "code",
   "execution_count": null,
   "metadata": {},
   "outputs": [],
   "source": []
  },
  {
   "cell_type": "code",
   "execution_count": null,
   "metadata": {},
   "outputs": [],
   "source": []
  },
  {
   "cell_type": "code",
   "execution_count": null,
   "metadata": {},
   "outputs": [],
   "source": []
  }
 ],
 "metadata": {
  "kernelspec": {
   "display_name": "Python 3 (ipykernel)",
   "language": "python",
   "name": "python3"
  },
  "language_info": {
   "codemirror_mode": {
    "name": "ipython",
    "version": 3
   },
   "file_extension": ".py",
   "mimetype": "text/x-python",
   "name": "python",
   "nbconvert_exporter": "python",
   "pygments_lexer": "ipython3",
   "version": "3.9.12"
  },
  "vscode": {
   "interpreter": {
    "hash": "b4f69eeab2735aa50e5454c1a90e2b57794594d7e318642fc692f664db798f41"
   }
  }
 },
 "nbformat": 4,
 "nbformat_minor": 4
}
